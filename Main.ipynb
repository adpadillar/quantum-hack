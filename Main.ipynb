{
 "cells": [
  {
   "cell_type": "code",
   "execution_count": null,
   "id": "bc2f8340-ef1f-469c-a7d1-f072da628e9b",
   "metadata": {
    "tags": []
   },
   "outputs": [
    {
     "name": "stdout",
     "output_type": "stream",
     "text": [
      "distance\n",
      " [[ 0. 69. 66.]\n",
      " [69.  0. 78.]\n",
      " [66. 78.  0.]]\n",
      "order = (0, 1, 2) Distance = 213.0\n",
      "Best order from brute force = (0, 1, 2) with total distance = 213.0\n",
      "Problem name: TSP\n",
      "\n",
      "Minimize\n",
      "  69*x_0_0*x_1_1 + 69*x_0_0*x_1_2 + 66*x_0_0*x_2_1 + 66*x_0_0*x_2_2\n",
      "  + 69*x_0_1*x_1_0 + 69*x_0_1*x_1_2 + 66*x_0_1*x_2_0 + 66*x_0_1*x_2_2\n",
      "  + 69*x_0_2*x_1_0 + 69*x_0_2*x_1_1 + 66*x_0_2*x_2_0 + 66*x_0_2*x_2_1\n",
      "  + 78*x_1_0*x_2_1 + 78*x_1_0*x_2_2 + 78*x_1_1*x_2_0 + 78*x_1_1*x_2_2\n",
      "  + 78*x_1_2*x_2_0 + 78*x_1_2*x_2_1\n",
      "\n",
      "Subject to\n",
      "  Linear constraints (6)\n",
      "    x_0_0 + x_0_1 + x_0_2 == 1  'c0'\n",
      "    x_1_0 + x_1_1 + x_1_2 == 1  'c1'\n",
      "    x_2_0 + x_2_1 + x_2_2 == 1  'c2'\n",
      "    x_0_0 + x_1_0 + x_2_0 == 1  'c3'\n",
      "    x_0_1 + x_1_1 + x_2_1 == 1  'c4'\n",
      "    x_0_2 + x_1_2 + x_2_2 == 1  'c5'\n",
      "\n",
      "  Binary variables (9)\n",
      "    x_0_0 x_0_1 x_0_2 x_1_0 x_1_1 x_1_2 x_2_0 x_2_1 x_2_2\n",
      "\n",
      "Offset: 7993.5\n",
      "Ising Hamiltonian:\n",
      "-1346.5 * IIIIIIIIZ\n",
      "- 1346.5 * IIIIIIIZI\n",
      "- 1346.5 * IIIIIIZII\n",
      "- 1352.5 * IIIIIZIII\n",
      "- 1352.5 * IIIIZIIII\n",
      "- 1352.5 * IIIZIIIII\n",
      "- 1351.0 * IIZIIIIII\n",
      "- 1351.0 * IZIIIIIII\n",
      "- 1351.0 * ZIIIIIIII\n",
      "+ 639.5 * IIIIIIIZZ\n",
      "+ 639.5 * IIIIIIZIZ\n",
      "+ 639.5 * IIIIIIZZI\n",
      "+ 639.5 * IIIIIZIIZ\n",
      "+ 17.25 * IIIIIZIZI\n",
      "+ 17.25 * IIIIIZZII\n",
      "+ 17.25 * IIIIZIIIZ\n",
      "+ 639.5 * IIIIZIIZI\n",
      "+ 17.25 * IIIIZIZII\n",
      "+ 639.5 * IIIIZZIII\n",
      "+ 17.25 * IIIZIIIIZ\n",
      "+ 17.25 * IIIZIIIZI\n",
      "+ 639.5 * IIIZIIZII\n",
      "+ 639.5 * IIIZIZIII\n",
      "+ 639.5 * IIIZZIIII\n",
      "+ 639.5 * IIZIIIIIZ\n",
      "+ 16.5 * IIZIIIIZI\n",
      "+ 16.5 * IIZIIIZII\n",
      "+ 639.5 * IIZIIZIII\n",
      "+ 19.5 * IIZIZIIII\n",
      "+ 19.5 * IIZZIIIII\n",
      "+ 16.5 * IZIIIIIIZ\n",
      "+ 639.5 * IZIIIIIZI\n",
      "+ 16.5 * IZIIIIZII\n",
      "+ 19.5 * IZIIIZIII\n",
      "+ 639.5 * IZIIZIIII\n",
      "+ 19.5 * IZIZIIIII\n",
      "+ 639.5 * IZZIIIIII\n",
      "+ 16.5 * ZIIIIIIIZ\n",
      "+ 16.5 * ZIIIIIIZI\n",
      "+ 639.5 * ZIIIIIZII\n",
      "+ 19.5 * ZIIIIZIII\n",
      "+ 19.5 * ZIIIZIIII\n",
      "+ 639.5 * ZIIZIIIII\n",
      "+ 639.5 * ZIZIIIIII\n",
      "+ 639.5 * ZZIIIIIII\n",
      "objective function value: 213.0\n",
      "variable values: x_0_0=0.0, x_0_1=0.0, x_0_2=1.0, x_1_0=1.0, x_1_1=0.0, x_1_2=0.0, x_2_0=0.0, x_2_1=1.0, x_2_2=0.0\n",
      "status: SUCCESS\n"
     ]
    }
   ],
   "source": [
    "# useful additional packages\n",
    "from qiskit_optimization.converters import QuadraticProgramToQubo\n",
    "from itertools import permutations\n",
    "import matplotlib.pyplot as plt\n",
    "import numpy as np\n",
    "import networkx as nx\n",
    "\n",
    "from qiskit_ibm_runtime import QiskitRuntimeService, Sampler as QiskitSampler\n",
    "from qiskit_aer import Aer\n",
    "from qiskit.tools.visualization import plot_histogram\n",
    "from qiskit.circuit.library import TwoLocal\n",
    "from qiskit_optimization.applications import Maxcut, Tsp\n",
    "from qiskit.algorithms.minimum_eigensolvers import SamplingVQE, NumPyMinimumEigensolver\n",
    "from qiskit.algorithms.optimizers import SPSA\n",
    "from qiskit.utils import algorithm_globals\n",
    "from qiskit_optimization.algorithms import MinimumEigenOptimizer\n",
    "\n",
    "import matplotlib.pyplot as plt\n",
    "import networkx as nx\n",
    "\n",
    "\n",
    "def draw_graph(G, colors, pos):\n",
    "    default_axes = plt.axes(frameon=True)\n",
    "    nx.draw_networkx(G, node_color=colors, node_size=600,\n",
    "                     alpha=0.8, ax=default_axes, pos=pos)\n",
    "    edge_labels = nx.get_edge_attributes(G, \"weight\")\n",
    "    nx.draw_networkx_edge_labels(G, pos=pos, edge_labels=edge_labels)\n",
    "    # Write this figure to a file\n",
    "    plt.savefig(\"graph.png\")\n",
    "\n",
    "\n",
    "def draw_tsp_solution(G, order, colors, pos):\n",
    "    G2 = nx.DiGraph()\n",
    "    G2.add_nodes_from(G)\n",
    "    n = len(order)\n",
    "    for i in range(n):\n",
    "        j = (i + 1) % n\n",
    "        G2.add_edge(order[i], order[j], weight=G[order[i]][order[j]][\"weight\"])\n",
    "    default_axes = plt.axes(frameon=True)\n",
    "    nx.draw_networkx(\n",
    "        G2, node_color=colors, edge_color=\"b\", node_size=600, alpha=0.8, ax=default_axes, pos=pos\n",
    "    )\n",
    "    edge_labels = nx.get_edge_attributes(G2, \"weight\")\n",
    "    nx.draw_networkx_edge_labels(\n",
    "        G2, pos, font_color=\"b\", edge_labels=edge_labels)\n",
    "\n",
    "    # Write this figure to a file\n",
    "    plt.savefig(\"solution.png\")\n",
    "\n",
    "\n",
    "service = QiskitRuntimeService(channel=\"ibm_quantum\", token=\"412d6f2dcdf46801b6e4f5b813decd7fd033a36effe42b44565c890f40b88032fdf15586aab594fafd92fa862136f78dfa9887f965d1058fad6eb6609f245017\")\n",
    "\n",
    "# Run on a simulator\n",
    "backend = service.get_backend(\"ibmq_qasm_simulator\")\n",
    "\n",
    "# Create a Sampler object\n",
    "sampler = QiskitSampler(backend)\n",
    "\n",
    "# TRAVELING SALESMAN\n",
    "exact = MinimumEigenOptimizer(NumPyMinimumEigensolver())\n",
    "\n",
    "# Generating a graph of 3 nodes\n",
    "n = 3\n",
    "num_qubits = n**2\n",
    "tsp = Tsp.create_random_instance(n)\n",
    "adj_matrix = nx.to_numpy_array(tsp.graph)\n",
    "print(\"distance\\n\", adj_matrix)\n",
    "\n",
    "colors = [\"r\" for node in tsp.graph.nodes]\n",
    "pos = [tsp.graph.nodes[node][\"pos\"] for node in tsp.graph.nodes]\n",
    "draw_graph(tsp.graph, colors, pos)\n",
    "\n",
    "\n",
    "# Brute force\n",
    "def brute_force_tsp(w, N):\n",
    "    a = list(permutations(range(1, N)))\n",
    "    last_best_distance = 1e10\n",
    "    for i in a:\n",
    "        distance = 0\n",
    "        pre_j = 0\n",
    "        for j in i:\n",
    "            distance = distance + w[j, pre_j]\n",
    "            pre_j = j\n",
    "        distance = distance + w[pre_j, 0]\n",
    "        order = (0,) + i\n",
    "        if distance < last_best_distance:\n",
    "            best_order = order\n",
    "            last_best_distance = distance\n",
    "            print(\"order = \" + str(order) + \" Distance = \" + str(distance))\n",
    "    return last_best_distance, best_order\n",
    "\n",
    "\n",
    "best_distance, best_order = brute_force_tsp(adj_matrix, n)\n",
    "print(\n",
    "    \"Best order from brute force = \"\n",
    "    + str(best_order)\n",
    "    + \" with total distance = \"\n",
    "    + str(best_distance)\n",
    ")\n",
    "\n",
    "\n",
    "draw_tsp_solution(tsp.graph, best_order, colors, pos)\n",
    "\n",
    "\n",
    "# Something something?\n",
    "\n",
    "\n",
    "qp = tsp.to_quadratic_program()\n",
    "print(qp.prettyprint())\n",
    "\n",
    "\n",
    "qp2qubo = QuadraticProgramToQubo()\n",
    "qubo = qp2qubo.convert(qp)\n",
    "qubitOp, offset = qubo.to_ising()\n",
    "print(\"Offset:\", offset)\n",
    "print(\"Ising Hamiltonian:\")\n",
    "print(str(qubitOp))\n",
    "\n",
    "result = exact.solve(qubo)\n",
    "print(result.prettyprint())\n",
    "\n",
    "algorithm_globals.random_seed = 123\n",
    "seed = 10598\n",
    "\n",
    "optimizer = SPSA(maxiter=300)\n",
    "ry = TwoLocal(qubitOp.num_qubits, \"ry\", \"cz\", reps=5, entanglement=\"linear\")\n",
    "\n",
    "\n",
    "vqe = SamplingVQE(ansatz=ry, optimizer=optimizer, sampler=sampler)\n",
    "\n",
    "\n",
    "# # Submit the circuit to the sampler\n",
    "# job = sampler.run(vqe)\n",
    "\n",
    "# # Once the job is complete, get the result\n",
    "# res = job.result()\n",
    "\n",
    "\n",
    "# plot_histogram(\n",
    "#     job.result().quasi_dists,\n",
    "#     filename=\"histogram.png\"\n",
    "# )\n",
    "\n",
    "result = vqe.compute_minimum_eigenvalue(qubitOp)\n",
    "\n",
    "print(\"energy:\", result.eigenvalue.real)\n",
    "print(\"time:\", result.optimizer_time)\n",
    "x = tsp.sample_most_likely(result.eigenstate)\n",
    "print(\"feasible:\", qubo.is_feasible(x))\n",
    "z = tsp.interpret(x)\n",
    "print(\"solution:\", z)\n",
    "print(\"solution objective:\", tsp.tsp_value(z, adj_matrix))\n",
    "draw_tsp_solution(tsp.graph, z, colors, pos)\n",
    "\n",
    "algorithm_globals.random_seed = 123\n",
    "seed = 10598\n",
    "\n",
    "# create minimum eigen optimizer based on SamplingVQE\n",
    "vqe_optimizer = MinimumEigenOptimizer(vqe)\n",
    "\n",
    "# solve quadratic program\n",
    "result = vqe_optimizer.solve(qp)\n",
    "print(result.prettyprint())\n",
    "\n",
    "z = tsp.interpret(x)\n",
    "print(\"solution:\", z)\n",
    "print(\"solution objective:\", tsp.tsp_value(z, adj_matrix))\n",
    "draw_tsp_solution(tsp.graph, z, colors, pos)\n"
   ]
  },
  {
   "cell_type": "code",
   "execution_count": null,
   "id": "18ae2f8f-890c-4adf-8b28-4a2d7b61dbba",
   "metadata": {},
   "outputs": [],
   "source": []
  }
 ],
 "metadata": {
  "kernelspec": {
   "display_name": "Python 3 (ipykernel)",
   "language": "python",
   "name": "python3"
  },
  "language_info": {
   "codemirror_mode": {
    "name": "ipython",
    "version": 3
   },
   "file_extension": ".py",
   "mimetype": "text/x-python",
   "name": "python",
   "nbconvert_exporter": "python",
   "pygments_lexer": "ipython3",
   "version": "3.10.8"
  },
  "widgets": {
   "application/vnd.jupyter.widget-state+json": {
    "state": {
     "07edf13480cc4c1288763fd6767fe90e": {
      "model_module": "@jupyter-widgets/controls",
      "model_module_version": "2.0.0",
      "model_name": "HTMLStyleModel",
      "state": {
       "description_width": "",
       "font_size": null,
       "text_color": null
      }
     },
     "0f92b67f707d4750ac93200b26b2dd07": {
      "model_module": "@jupyter-widgets/base",
      "model_module_version": "2.0.0",
      "model_name": "LayoutModel",
      "state": {
       "grid_area": "right",
       "padding": "0px 0px 0px 0px",
       "width": "70px"
      }
     },
     "1177367b5f3c4c76b3d58ac2f2db9545": {
      "model_module": "@jupyter-widgets/controls",
      "model_module_version": "2.0.0",
      "model_name": "ButtonModel",
      "state": {
       "button_style": "primary",
       "description": "Clear",
       "layout": "IPY_MODEL_0f92b67f707d4750ac93200b26b2dd07",
       "style": "IPY_MODEL_f7cbd15424f84d5aaf378f85b11bac3f",
       "tooltip": null
      }
     },
     "2232b9f8ad7f41dea64d4ab1bb2c5fe6": {
      "model_module": "@jupyter-widgets/controls",
      "model_module_version": "2.0.0",
      "model_name": "HTMLModel",
      "state": {
       "layout": "IPY_MODEL_6bd242d1033143b4abfe813512b39029",
       "style": "IPY_MODEL_c1f08b12e90c410ca292bbe78ade0b5e",
       "value": "<h5>Message</h5>"
      }
     },
     "2f974d569c1f4271b8f90c0877d66d01": {
      "model_module": "@jupyter-widgets/controls",
      "model_module_version": "2.0.0",
      "model_name": "HTMLStyleModel",
      "state": {
       "description_width": "",
       "font_size": null,
       "text_color": null
      }
     },
     "5f0cb9f63b944f2283e534aded994618": {
      "model_module": "@jupyter-widgets/controls",
      "model_module_version": "2.0.0",
      "model_name": "HTMLModel",
      "state": {
       "layout": "IPY_MODEL_8a7a621012c14f7d9bced8f386e6008e",
       "style": "IPY_MODEL_7c26e78352b049a090d579883a23834d",
       "value": "<h5>Status</h5>"
      }
     },
     "6065ca893251462c8b034b1365809ea2": {
      "model_module": "@jupyter-widgets/controls",
      "model_module_version": "2.0.0",
      "model_name": "HTMLModel",
      "state": {
       "layout": "IPY_MODEL_8ddd4fc1c39e4908a2ebbce59ad4c6e4",
       "style": "IPY_MODEL_cac7f7a7881842dcbafc68d84eb1241f",
       "value": "<p style='font-family: IBM Plex Sans, Arial, Helvetica, sans-serif; font-size: 20px; font-weight: medium;'>Circuit Properties</p>"
      }
     },
     "65b3b1c6a381424fad790e8e7a27ffd8": {
      "model_module": "@jupyter-widgets/base",
      "model_module_version": "2.0.0",
      "model_name": "LayoutModel",
      "state": {
       "width": "70px"
      }
     },
     "672cc3eb071c46b6b14c339ac90343b7": {
      "model_module": "@jupyter-widgets/controls",
      "model_module_version": "2.0.0",
      "model_name": "HBoxModel",
      "state": {
       "children": [
        "IPY_MODEL_6d71d1531a114f08a3d74878167b1a68",
        "IPY_MODEL_c4303dbb41454730bdbcfefb0097c0ff",
        "IPY_MODEL_5f0cb9f63b944f2283e534aded994618",
        "IPY_MODEL_7ff2982896b74a87a32beac1777a6c38",
        "IPY_MODEL_2232b9f8ad7f41dea64d4ab1bb2c5fe6"
       ],
       "layout": "IPY_MODEL_f6e90e9fc7f8440bbaa48420423bbf3d"
      }
     },
     "6bd242d1033143b4abfe813512b39029": {
      "model_module": "@jupyter-widgets/base",
      "model_module_version": "2.0.0",
      "model_name": "LayoutModel",
      "state": {}
     },
     "6d71d1531a114f08a3d74878167b1a68": {
      "model_module": "@jupyter-widgets/controls",
      "model_module_version": "2.0.0",
      "model_name": "HTMLModel",
      "state": {
       "layout": "IPY_MODEL_77d8e121bb9a4b0da5bcd5abcbefc2e2",
       "style": "IPY_MODEL_07edf13480cc4c1288763fd6767fe90e",
       "value": "<h5>Job ID</h5>"
      }
     },
     "77d8e121bb9a4b0da5bcd5abcbefc2e2": {
      "model_module": "@jupyter-widgets/base",
      "model_module_version": "2.0.0",
      "model_name": "LayoutModel",
      "state": {
       "width": "190px"
      }
     },
     "7c26e78352b049a090d579883a23834d": {
      "model_module": "@jupyter-widgets/controls",
      "model_module_version": "2.0.0",
      "model_name": "HTMLStyleModel",
      "state": {
       "description_width": "",
       "font_size": null,
       "text_color": null
      }
     },
     "7ff2982896b74a87a32beac1777a6c38": {
      "model_module": "@jupyter-widgets/controls",
      "model_module_version": "2.0.0",
      "model_name": "HTMLModel",
      "state": {
       "layout": "IPY_MODEL_65b3b1c6a381424fad790e8e7a27ffd8",
       "style": "IPY_MODEL_2f974d569c1f4271b8f90c0877d66d01",
       "value": "<h5>Queue</h5>"
      }
     },
     "8a7a621012c14f7d9bced8f386e6008e": {
      "model_module": "@jupyter-widgets/base",
      "model_module_version": "2.0.0",
      "model_name": "LayoutModel",
      "state": {
       "width": "95px"
      }
     },
     "8ddd4fc1c39e4908a2ebbce59ad4c6e4": {
      "model_module": "@jupyter-widgets/base",
      "model_module_version": "2.0.0",
      "model_name": "LayoutModel",
      "state": {
       "margin": "0px 0px 10px 0px"
      }
     },
     "9c314eb107934f5f9ea8bb70559c0b9a": {
      "model_module": "@jupyter-widgets/base",
      "model_module_version": "2.0.0",
      "model_name": "LayoutModel",
      "state": {
       "width": "145px"
      }
     },
     "9d4ccc6339c94e3b939e1d4930f77570": {
      "model_module": "@jupyter-widgets/base",
      "model_module_version": "2.0.0",
      "model_name": "LayoutModel",
      "state": {
       "grid_template_areas": "\n                                       \". . . . right \"\n                                        ",
       "grid_template_columns": "20% 20% 20% 20% 20%",
       "width": "100%"
      }
     },
     "c0b14d0e653741e09bb9cdc89ebcd3f6": {
      "model_module": "@jupyter-widgets/controls",
      "model_module_version": "2.0.0",
      "model_name": "HTMLStyleModel",
      "state": {
       "description_width": "",
       "font_size": null,
       "text_color": null
      }
     },
     "c1f08b12e90c410ca292bbe78ade0b5e": {
      "model_module": "@jupyter-widgets/controls",
      "model_module_version": "2.0.0",
      "model_name": "HTMLStyleModel",
      "state": {
       "description_width": "",
       "font_size": null,
       "text_color": null
      }
     },
     "c4303dbb41454730bdbcfefb0097c0ff": {
      "model_module": "@jupyter-widgets/controls",
      "model_module_version": "2.0.0",
      "model_name": "HTMLModel",
      "state": {
       "layout": "IPY_MODEL_9c314eb107934f5f9ea8bb70559c0b9a",
       "style": "IPY_MODEL_c0b14d0e653741e09bb9cdc89ebcd3f6",
       "value": "<h5>Backend</h5>"
      }
     },
     "cac7f7a7881842dcbafc68d84eb1241f": {
      "model_module": "@jupyter-widgets/controls",
      "model_module_version": "2.0.0",
      "model_name": "HTMLStyleModel",
      "state": {
       "description_width": "",
       "font_size": null,
       "text_color": null
      }
     },
     "f2a288c192124a7cbe3d8b655911c2bc": {
      "model_module": "@jupyter-widgets/controls",
      "model_module_version": "2.0.0",
      "model_name": "GridBoxModel",
      "state": {
       "children": [
        "IPY_MODEL_1177367b5f3c4c76b3d58ac2f2db9545"
       ],
       "layout": "IPY_MODEL_9d4ccc6339c94e3b939e1d4930f77570"
      }
     },
     "f6e90e9fc7f8440bbaa48420423bbf3d": {
      "model_module": "@jupyter-widgets/base",
      "model_module_version": "2.0.0",
      "model_name": "LayoutModel",
      "state": {
       "margin": "0px 0px 0px 37px",
       "width": "600px"
      }
     },
     "f7cbd15424f84d5aaf378f85b11bac3f": {
      "model_module": "@jupyter-widgets/controls",
      "model_module_version": "2.0.0",
      "model_name": "ButtonStyleModel",
      "state": {
       "font_family": null,
       "font_size": null,
       "font_style": null,
       "font_variant": null,
       "font_weight": null,
       "text_color": null,
       "text_decoration": null
      }
     }
    },
    "version_major": 2,
    "version_minor": 0
   }
  }
 },
 "nbformat": 4,
 "nbformat_minor": 5
}
